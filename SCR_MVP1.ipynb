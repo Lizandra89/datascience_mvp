{
  "nbformat": 4,
  "nbformat_minor": 0,
  "metadata": {
    "colab": {
      "provenance": [],
      "authorship_tag": "ABX9TyNsodSXic3WHZS3jNTrrjpK",
      "include_colab_link": true
    },
    "kernelspec": {
      "name": "python3",
      "display_name": "Python 3"
    },
    "language_info": {
      "name": "python"
    }
  },
  "cells": [
    {
      "cell_type": "markdown",
      "metadata": {
        "id": "view-in-github",
        "colab_type": "text"
      },
      "source": [
        "<a href=\"https://colab.research.google.com/github/simonefmr/datascience_mvp/blob/main/SCR_MVP1.ipynb\" target=\"_parent\"><img src=\"https://colab.research.google.com/assets/colab-badge.svg\" alt=\"Open In Colab\"/></a>"
      ]
    },
    {
      "cell_type": "markdown",
      "source": [
        "# **SCR_MVP**\n",
        "\n",
        "O objetivo deste projeto é avaliar a evolução do endividamento das pessoas físicas no Brasil, no ano de 2022, conforme registro feito pelas instituições financeiras e comunicados ao Banco Central através do Sistema de Informações de Créditos (SCR).\n",
        "\n"
      ],
      "metadata": {
        "id": "y0zoYct3hNGx"
      }
    },
    {
      "cell_type": "code",
      "source": [
        "# Exemplo de substituição\n",
        "# Dataframe[\"coluna\"] = \n",
        "# Dataframe[\"coluna\"].str.replace(\",\",\".\")"
      ],
      "metadata": {
        "id": "DNv8P94QjUr2"
      },
      "execution_count": null,
      "outputs": []
    },
    {
      "cell_type": "code",
      "source": [
        "# Importação de pacotes\n",
        "import pandas as pd\n",
        "import os\n",
        "import glob\n",
        "import pandas as pd\n",
        "import numpy as np\n",
        "import seaborn as sns\n",
        "import matplotlib.pyplot as plt\n",
        "import requests\n",
        "from sklearn.preprocessing import MinMaxScaler # normalização\n",
        "from sklearn.preprocessing import StandardScaler # padronização\n",
        "from sklearn.preprocessing import OrdinalEncoder # ordinal encoding\n",
        "from sklearn.preprocessing import OneHotEncoder # one-hot encoding e dummy encoding"
      ],
      "metadata": {
        "id": "nY_yFfXQhSlb"
      },
      "execution_count": 2,
      "outputs": []
    },
    {
      "cell_type": "code",
      "source": [
        "pd.__version__"
      ],
      "metadata": {
        "colab": {
          "base_uri": "https://localhost:8080/",
          "height": 35
        },
        "id": "afU4hnEcuVXo",
        "outputId": "d12d7c0c-aa2c-4332-9cc3-8cefd1b114fd"
      },
      "execution_count": 3,
      "outputs": [
        {
          "output_type": "execute_result",
          "data": {
            "text/plain": [
              "'1.5.3'"
            ],
            "application/vnd.google.colaboratory.intrinsic+json": {
              "type": "string"
            }
          },
          "metadata": {},
          "execution_count": 3
        }
      ]
    },
    {
      "cell_type": "code",
      "source": [
        "# Importação de dados\n",
        "# Lê o arquivo\n",
        "\n",
        "url_2022_01 = pd.read_csv('https://github.com/simonefmr/datascience_mvp/blob/main/database_202201.csv?raw=true', sep=';')"
      ],
      "metadata": {
        "id": "oQNeRwZ0iCdR"
      },
      "execution_count": 5,
      "outputs": []
    },
    {
      "cell_type": "code",
      "source": [
        "url_2022_02 = pd.read_csv('https://github.com/simonefmr/datascience_mvp/blob/main/database_202202.csv?raw=true', sep=';', encoding='ISO-8859-1')"
      ],
      "metadata": {
        "id": "Afagf8RkKkZM"
      },
      "execution_count": 4,
      "outputs": []
    },
    {
      "cell_type": "code",
      "source": [
        "dataframe = pd.concat([url_2022_01, url_2022_02])"
      ],
      "metadata": {
        "id": "iVOi9jyREmDt"
      },
      "execution_count": 6,
      "outputs": []
    },
    {
      "cell_type": "code",
      "source": [
        "dataframe.head(1)"
      ],
      "metadata": {
        "id": "RBCn35gsfUtE",
        "outputId": "cd2ffaf6-2395-49d5-b321-7a23f06409f5",
        "colab": {
          "base_uri": "https://localhost:8080/",
          "height": 243
        }
      },
      "execution_count": 10,
      "outputs": [
        {
          "output_type": "execute_result",
          "data": {
            "text/plain": [
              "    data_base  uf       tcb  sr cliente                     ocupacao  \\\n",
              "0  31/01/2022  AC  Bancário  S1      PF  PF - Aposentado/pensionista   \n",
              "\n",
              "  cnae_secao cnae_subclasse                                          porte  \\\n",
              "0          -              -  PF - Acima de 20 salários mínimos               \n",
              "\n",
              "               modalidade  ... a_vencer_ate_90_dias  \\\n",
              "0  PF - Cartão de crédito  ...                 0,00   \n",
              "\n",
              "  a_vencer_de_91_ate_360_dias a_vencer_de_361_ate_1080_dias  \\\n",
              "0                     5561,30                          0,00   \n",
              "\n",
              "  a_vencer_de_1081_ate_1800_dias a_vencer_de_1801_ate_5400_dias  \\\n",
              "0                           0,00                           0,00   \n",
              "\n",
              "  a_vencer_acima_de_5400_dias vencido_acima_de_15_dias carteira_ativa  \\\n",
              "0                        0,00                     0,00        5561,30   \n",
              "\n",
              "  carteira_inadimplida_arrastada ativo_problematico  \n",
              "0                           0,00               0,00  \n",
              "\n",
              "[1 rows x 23 columns]"
            ],
            "text/html": [
              "\n",
              "  <div id=\"df-d49bd16c-a713-4a07-80ca-d8d41197bf6c\">\n",
              "    <div class=\"colab-df-container\">\n",
              "      <div>\n",
              "<style scoped>\n",
              "    .dataframe tbody tr th:only-of-type {\n",
              "        vertical-align: middle;\n",
              "    }\n",
              "\n",
              "    .dataframe tbody tr th {\n",
              "        vertical-align: top;\n",
              "    }\n",
              "\n",
              "    .dataframe thead th {\n",
              "        text-align: right;\n",
              "    }\n",
              "</style>\n",
              "<table border=\"1\" class=\"dataframe\">\n",
              "  <thead>\n",
              "    <tr style=\"text-align: right;\">\n",
              "      <th></th>\n",
              "      <th>data_base</th>\n",
              "      <th>uf</th>\n",
              "      <th>tcb</th>\n",
              "      <th>sr</th>\n",
              "      <th>cliente</th>\n",
              "      <th>ocupacao</th>\n",
              "      <th>cnae_secao</th>\n",
              "      <th>cnae_subclasse</th>\n",
              "      <th>porte</th>\n",
              "      <th>modalidade</th>\n",
              "      <th>...</th>\n",
              "      <th>a_vencer_ate_90_dias</th>\n",
              "      <th>a_vencer_de_91_ate_360_dias</th>\n",
              "      <th>a_vencer_de_361_ate_1080_dias</th>\n",
              "      <th>a_vencer_de_1081_ate_1800_dias</th>\n",
              "      <th>a_vencer_de_1801_ate_5400_dias</th>\n",
              "      <th>a_vencer_acima_de_5400_dias</th>\n",
              "      <th>vencido_acima_de_15_dias</th>\n",
              "      <th>carteira_ativa</th>\n",
              "      <th>carteira_inadimplida_arrastada</th>\n",
              "      <th>ativo_problematico</th>\n",
              "    </tr>\n",
              "  </thead>\n",
              "  <tbody>\n",
              "    <tr>\n",
              "      <th>0</th>\n",
              "      <td>31/01/2022</td>\n",
              "      <td>AC</td>\n",
              "      <td>Bancário</td>\n",
              "      <td>S1</td>\n",
              "      <td>PF</td>\n",
              "      <td>PF - Aposentado/pensionista</td>\n",
              "      <td>-</td>\n",
              "      <td>-</td>\n",
              "      <td>PF - Acima de 20 salários mínimos</td>\n",
              "      <td>PF - Cartão de crédito</td>\n",
              "      <td>...</td>\n",
              "      <td>0,00</td>\n",
              "      <td>5561,30</td>\n",
              "      <td>0,00</td>\n",
              "      <td>0,00</td>\n",
              "      <td>0,00</td>\n",
              "      <td>0,00</td>\n",
              "      <td>0,00</td>\n",
              "      <td>5561,30</td>\n",
              "      <td>0,00</td>\n",
              "      <td>0,00</td>\n",
              "    </tr>\n",
              "  </tbody>\n",
              "</table>\n",
              "<p>1 rows × 23 columns</p>\n",
              "</div>\n",
              "      <button class=\"colab-df-convert\" onclick=\"convertToInteractive('df-d49bd16c-a713-4a07-80ca-d8d41197bf6c')\"\n",
              "              title=\"Convert this dataframe to an interactive table.\"\n",
              "              style=\"display:none;\">\n",
              "        \n",
              "  <svg xmlns=\"http://www.w3.org/2000/svg\" height=\"24px\"viewBox=\"0 0 24 24\"\n",
              "       width=\"24px\">\n",
              "    <path d=\"M0 0h24v24H0V0z\" fill=\"none\"/>\n",
              "    <path d=\"M18.56 5.44l.94 2.06.94-2.06 2.06-.94-2.06-.94-.94-2.06-.94 2.06-2.06.94zm-11 1L8.5 8.5l.94-2.06 2.06-.94-2.06-.94L8.5 2.5l-.94 2.06-2.06.94zm10 10l.94 2.06.94-2.06 2.06-.94-2.06-.94-.94-2.06-.94 2.06-2.06.94z\"/><path d=\"M17.41 7.96l-1.37-1.37c-.4-.4-.92-.59-1.43-.59-.52 0-1.04.2-1.43.59L10.3 9.45l-7.72 7.72c-.78.78-.78 2.05 0 2.83L4 21.41c.39.39.9.59 1.41.59.51 0 1.02-.2 1.41-.59l7.78-7.78 2.81-2.81c.8-.78.8-2.07 0-2.86zM5.41 20L4 18.59l7.72-7.72 1.47 1.35L5.41 20z\"/>\n",
              "  </svg>\n",
              "      </button>\n",
              "      \n",
              "  <style>\n",
              "    .colab-df-container {\n",
              "      display:flex;\n",
              "      flex-wrap:wrap;\n",
              "      gap: 12px;\n",
              "    }\n",
              "\n",
              "    .colab-df-convert {\n",
              "      background-color: #E8F0FE;\n",
              "      border: none;\n",
              "      border-radius: 50%;\n",
              "      cursor: pointer;\n",
              "      display: none;\n",
              "      fill: #1967D2;\n",
              "      height: 32px;\n",
              "      padding: 0 0 0 0;\n",
              "      width: 32px;\n",
              "    }\n",
              "\n",
              "    .colab-df-convert:hover {\n",
              "      background-color: #E2EBFA;\n",
              "      box-shadow: 0px 1px 2px rgba(60, 64, 67, 0.3), 0px 1px 3px 1px rgba(60, 64, 67, 0.15);\n",
              "      fill: #174EA6;\n",
              "    }\n",
              "\n",
              "    [theme=dark] .colab-df-convert {\n",
              "      background-color: #3B4455;\n",
              "      fill: #D2E3FC;\n",
              "    }\n",
              "\n",
              "    [theme=dark] .colab-df-convert:hover {\n",
              "      background-color: #434B5C;\n",
              "      box-shadow: 0px 1px 3px 1px rgba(0, 0, 0, 0.15);\n",
              "      filter: drop-shadow(0px 1px 2px rgba(0, 0, 0, 0.3));\n",
              "      fill: #FFFFFF;\n",
              "    }\n",
              "  </style>\n",
              "\n",
              "      <script>\n",
              "        const buttonEl =\n",
              "          document.querySelector('#df-d49bd16c-a713-4a07-80ca-d8d41197bf6c button.colab-df-convert');\n",
              "        buttonEl.style.display =\n",
              "          google.colab.kernel.accessAllowed ? 'block' : 'none';\n",
              "\n",
              "        async function convertToInteractive(key) {\n",
              "          const element = document.querySelector('#df-d49bd16c-a713-4a07-80ca-d8d41197bf6c');\n",
              "          const dataTable =\n",
              "            await google.colab.kernel.invokeFunction('convertToInteractive',\n",
              "                                                     [key], {});\n",
              "          if (!dataTable) return;\n",
              "\n",
              "          const docLinkHtml = 'Like what you see? Visit the ' +\n",
              "            '<a target=\"_blank\" href=https://colab.research.google.com/notebooks/data_table.ipynb>data table notebook</a>'\n",
              "            + ' to learn more about interactive tables.';\n",
              "          element.innerHTML = '';\n",
              "          dataTable['output_type'] = 'display_data';\n",
              "          await google.colab.output.renderOutput(dataTable, element);\n",
              "          const docLink = document.createElement('div');\n",
              "          docLink.innerHTML = docLinkHtml;\n",
              "          element.appendChild(docLink);\n",
              "        }\n",
              "      </script>\n",
              "    </div>\n",
              "  </div>\n",
              "  "
            ]
          },
          "metadata": {},
          "execution_count": 10
        }
      ]
    },
    {
      "cell_type": "code",
      "source": [
        "dataframe.tail(1)"
      ],
      "metadata": {
        "id": "Qmm6fLRAfqej",
        "outputId": "d1d30ac3-c7ff-4d21-c571-2871c17dbadf",
        "colab": {
          "base_uri": "https://localhost:8080/",
          "height": 226
        }
      },
      "execution_count": 11,
      "outputs": [
        {
          "output_type": "execute_result",
          "data": {
            "text/plain": [
              "        data_base  uf       tcb  sr cliente  \\\n",
              "34038  28/02/2022  TO  Bancário  S1      PF   \n",
              "\n",
              "                                 ocupacao cnae_secao cnae_subclasse  \\\n",
              "34038  PF - Servidor ou empregado público          -              -   \n",
              "\n",
              "                                               porte     modalidade  ...  \\\n",
              "34038  PF - Sem rendimento                            PF - Veículos  ...   \n",
              "\n",
              "      a_vencer_ate_90_dias a_vencer_de_91_ate_360_dias  \\\n",
              "34038             46005,64                   118633,52   \n",
              "\n",
              "      a_vencer_de_361_ate_1080_dias a_vencer_de_1081_ate_1800_dias  \\\n",
              "34038                     104956,86                       24855,26   \n",
              "\n",
              "      a_vencer_de_1801_ate_5400_dias a_vencer_acima_de_5400_dias  \\\n",
              "34038                              0                           0   \n",
              "\n",
              "      vencido_acima_de_15_dias carteira_ativa carteira_inadimplida_arrastada  \\\n",
              "34038                 67381,23      361832,51                      127824,39   \n",
              "\n",
              "      ativo_problematico  \n",
              "34038          162391,17  \n",
              "\n",
              "[1 rows x 23 columns]"
            ],
            "text/html": [
              "\n",
              "  <div id=\"df-a4b7ba06-1574-4bf0-8197-9c39c2c4998e\">\n",
              "    <div class=\"colab-df-container\">\n",
              "      <div>\n",
              "<style scoped>\n",
              "    .dataframe tbody tr th:only-of-type {\n",
              "        vertical-align: middle;\n",
              "    }\n",
              "\n",
              "    .dataframe tbody tr th {\n",
              "        vertical-align: top;\n",
              "    }\n",
              "\n",
              "    .dataframe thead th {\n",
              "        text-align: right;\n",
              "    }\n",
              "</style>\n",
              "<table border=\"1\" class=\"dataframe\">\n",
              "  <thead>\n",
              "    <tr style=\"text-align: right;\">\n",
              "      <th></th>\n",
              "      <th>data_base</th>\n",
              "      <th>uf</th>\n",
              "      <th>tcb</th>\n",
              "      <th>sr</th>\n",
              "      <th>cliente</th>\n",
              "      <th>ocupacao</th>\n",
              "      <th>cnae_secao</th>\n",
              "      <th>cnae_subclasse</th>\n",
              "      <th>porte</th>\n",
              "      <th>modalidade</th>\n",
              "      <th>...</th>\n",
              "      <th>a_vencer_ate_90_dias</th>\n",
              "      <th>a_vencer_de_91_ate_360_dias</th>\n",
              "      <th>a_vencer_de_361_ate_1080_dias</th>\n",
              "      <th>a_vencer_de_1081_ate_1800_dias</th>\n",
              "      <th>a_vencer_de_1801_ate_5400_dias</th>\n",
              "      <th>a_vencer_acima_de_5400_dias</th>\n",
              "      <th>vencido_acima_de_15_dias</th>\n",
              "      <th>carteira_ativa</th>\n",
              "      <th>carteira_inadimplida_arrastada</th>\n",
              "      <th>ativo_problematico</th>\n",
              "    </tr>\n",
              "  </thead>\n",
              "  <tbody>\n",
              "    <tr>\n",
              "      <th>34038</th>\n",
              "      <td>28/02/2022</td>\n",
              "      <td>TO</td>\n",
              "      <td>Bancário</td>\n",
              "      <td>S1</td>\n",
              "      <td>PF</td>\n",
              "      <td>PF - Servidor ou empregado público</td>\n",
              "      <td>-</td>\n",
              "      <td>-</td>\n",
              "      <td>PF - Sem rendimento</td>\n",
              "      <td>PF - Veículos</td>\n",
              "      <td>...</td>\n",
              "      <td>46005,64</td>\n",
              "      <td>118633,52</td>\n",
              "      <td>104956,86</td>\n",
              "      <td>24855,26</td>\n",
              "      <td>0</td>\n",
              "      <td>0</td>\n",
              "      <td>67381,23</td>\n",
              "      <td>361832,51</td>\n",
              "      <td>127824,39</td>\n",
              "      <td>162391,17</td>\n",
              "    </tr>\n",
              "  </tbody>\n",
              "</table>\n",
              "<p>1 rows × 23 columns</p>\n",
              "</div>\n",
              "      <button class=\"colab-df-convert\" onclick=\"convertToInteractive('df-a4b7ba06-1574-4bf0-8197-9c39c2c4998e')\"\n",
              "              title=\"Convert this dataframe to an interactive table.\"\n",
              "              style=\"display:none;\">\n",
              "        \n",
              "  <svg xmlns=\"http://www.w3.org/2000/svg\" height=\"24px\"viewBox=\"0 0 24 24\"\n",
              "       width=\"24px\">\n",
              "    <path d=\"M0 0h24v24H0V0z\" fill=\"none\"/>\n",
              "    <path d=\"M18.56 5.44l.94 2.06.94-2.06 2.06-.94-2.06-.94-.94-2.06-.94 2.06-2.06.94zm-11 1L8.5 8.5l.94-2.06 2.06-.94-2.06-.94L8.5 2.5l-.94 2.06-2.06.94zm10 10l.94 2.06.94-2.06 2.06-.94-2.06-.94-.94-2.06-.94 2.06-2.06.94z\"/><path d=\"M17.41 7.96l-1.37-1.37c-.4-.4-.92-.59-1.43-.59-.52 0-1.04.2-1.43.59L10.3 9.45l-7.72 7.72c-.78.78-.78 2.05 0 2.83L4 21.41c.39.39.9.59 1.41.59.51 0 1.02-.2 1.41-.59l7.78-7.78 2.81-2.81c.8-.78.8-2.07 0-2.86zM5.41 20L4 18.59l7.72-7.72 1.47 1.35L5.41 20z\"/>\n",
              "  </svg>\n",
              "      </button>\n",
              "      \n",
              "  <style>\n",
              "    .colab-df-container {\n",
              "      display:flex;\n",
              "      flex-wrap:wrap;\n",
              "      gap: 12px;\n",
              "    }\n",
              "\n",
              "    .colab-df-convert {\n",
              "      background-color: #E8F0FE;\n",
              "      border: none;\n",
              "      border-radius: 50%;\n",
              "      cursor: pointer;\n",
              "      display: none;\n",
              "      fill: #1967D2;\n",
              "      height: 32px;\n",
              "      padding: 0 0 0 0;\n",
              "      width: 32px;\n",
              "    }\n",
              "\n",
              "    .colab-df-convert:hover {\n",
              "      background-color: #E2EBFA;\n",
              "      box-shadow: 0px 1px 2px rgba(60, 64, 67, 0.3), 0px 1px 3px 1px rgba(60, 64, 67, 0.15);\n",
              "      fill: #174EA6;\n",
              "    }\n",
              "\n",
              "    [theme=dark] .colab-df-convert {\n",
              "      background-color: #3B4455;\n",
              "      fill: #D2E3FC;\n",
              "    }\n",
              "\n",
              "    [theme=dark] .colab-df-convert:hover {\n",
              "      background-color: #434B5C;\n",
              "      box-shadow: 0px 1px 3px 1px rgba(0, 0, 0, 0.15);\n",
              "      filter: drop-shadow(0px 1px 2px rgba(0, 0, 0, 0.3));\n",
              "      fill: #FFFFFF;\n",
              "    }\n",
              "  </style>\n",
              "\n",
              "      <script>\n",
              "        const buttonEl =\n",
              "          document.querySelector('#df-a4b7ba06-1574-4bf0-8197-9c39c2c4998e button.colab-df-convert');\n",
              "        buttonEl.style.display =\n",
              "          google.colab.kernel.accessAllowed ? 'block' : 'none';\n",
              "\n",
              "        async function convertToInteractive(key) {\n",
              "          const element = document.querySelector('#df-a4b7ba06-1574-4bf0-8197-9c39c2c4998e');\n",
              "          const dataTable =\n",
              "            await google.colab.kernel.invokeFunction('convertToInteractive',\n",
              "                                                     [key], {});\n",
              "          if (!dataTable) return;\n",
              "\n",
              "          const docLinkHtml = 'Like what you see? Visit the ' +\n",
              "            '<a target=\"_blank\" href=https://colab.research.google.com/notebooks/data_table.ipynb>data table notebook</a>'\n",
              "            + ' to learn more about interactive tables.';\n",
              "          element.innerHTML = '';\n",
              "          dataTable['output_type'] = 'display_data';\n",
              "          await google.colab.output.renderOutput(dataTable, element);\n",
              "          const docLink = document.createElement('div');\n",
              "          docLink.innerHTML = docLinkHtml;\n",
              "          element.appendChild(docLink);\n",
              "        }\n",
              "      </script>\n",
              "    </div>\n",
              "  </div>\n",
              "  "
            ]
          },
          "metadata": {},
          "execution_count": 11
        }
      ]
    },
    {
      "cell_type": "code",
      "source": [
        "colunas = ['data_base', 'uf', 'tcb', 'sr', 'cliente', 'ocupacao', 'cnae_secao','cnae_subclasse', 'porte', 'modalidade', 'origem', 'indexador', 'numero_de_operacoes', 'a_vencer_ate_90_dias', 'a_vencer_de_91_ate_360_dias', 'a_vencer_de_361_ate_1080_dias', 'a_vencer_de_1081_ate_1800_dias', 'a_vencer_de_1801_ate_5400_dias', 'a_vencer_acima_de_5400_dias', 'vencido_acima_de_15_dias', 'carteira_ativa', 'carteira_inadimplida_arrastada', 'ativo_problematico']"
      ],
      "metadata": {
        "id": "Vl6F3LDNCWuy"
      },
      "execution_count": null,
      "outputs": []
    },
    {
      "cell_type": "code",
      "source": [
        "dataframe.shape"
      ],
      "metadata": {
        "id": "k6FvEXV_HQpC"
      },
      "execution_count": null,
      "outputs": []
    },
    {
      "cell_type": "code",
      "source": [
        "dataframe.head(10)"
      ],
      "metadata": {
        "id": "SPGf2g4iuCvb"
      },
      "execution_count": null,
      "outputs": []
    },
    {
      "cell_type": "code",
      "source": [
        "pd.DataFrame(dataset.dtypes, columns = ['Tipos de Dados'])"
      ],
      "metadata": {
        "id": "iqvQnNs0iD57"
      },
      "execution_count": null,
      "outputs": []
    },
    {
      "cell_type": "code",
      "source": [],
      "metadata": {
        "id": "vqCvPECiiO98"
      },
      "execution_count": null,
      "outputs": []
    }
  ]
}