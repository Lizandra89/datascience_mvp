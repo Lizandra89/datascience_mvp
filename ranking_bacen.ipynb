{
  "nbformat": 4,
  "nbformat_minor": 0,
  "metadata": {
    "colab": {
      "provenance": [],
      "toc_visible": true,
      "mount_file_id": "1agq33izVuIQABA2DSKAi33EEHBO_n0Gf",
      "authorship_tag": "ABX9TyOYvfQ0eAdiJMV+w+r6/vCD",
      "include_colab_link": true
    },
    "kernelspec": {
      "name": "python3",
      "display_name": "Python 3"
    },
    "language_info": {
      "name": "python"
    }
  },
  "cells": [
    {
      "cell_type": "markdown",
      "metadata": {
        "id": "view-in-github",
        "colab_type": "text"
      },
      "source": [
        "<a href=\"https://colab.research.google.com/github/simonefmr/datascience_mvp/blob/main/ranking_bacen.ipynb\" target=\"_parent\"><img src=\"https://colab.research.google.com/assets/colab-badge.svg\" alt=\"Open In Colab\"/></a>"
      ]
    },
    {
      "cell_type": "markdown",
      "source": [
        "# RANKING DE RECLAMAÇÕES DE INSTITUIÇÕES FINANCEIRAS\n",
        "### 4º Trimestre/2022\n",
        "## MVP Sprint I: Análise de Dados e Boas Práticas \n",
        "## Aluna Simone de Fátima Marques Ramos\n"
      ],
      "metadata": {
        "id": "EH1XGZbLvuYh"
      }
    },
    {
      "cell_type": "markdown",
      "source": [
        "### **Introdução**\n",
        "\n",
        "O ranking de reclamações do Banco Central (Ranking Bacen), consolida as reclamações dos cidadãos contra Instituições Financeiras que foram recebidas, analisadas e encerradas pelo Banco Central em cada período de referência. Os resultados são apresentados de forma trimestral e neste projeto utilizaremos como referência o 4º trimestre de 2022.\n",
        "\n",
        "O cálculo do índice de reclamações considera a quantidade de reclamações reguladas procedentes para cada um milhão de clientes da instituição financeira. \n",
        "\n",
        "Regras:\n",
        "\n",
        "- Os bancos são separados em dois grupos: bancos com mais de um milhão de clientes e bancos com menos de um milhão de clientes.\n",
        "- São elegíveis para integrar a listagem todos os bancos com mais de um milhão de clientes que tiverem reclamações procedentes encerradas no mês de referência. O número absoluto de reclamações é ponderado pelo número de clientes.\n",
        "- São elegíveis para integrar a segunda listagem todos os bancos com menos de um milhão de clientes que tiverem cinco ou mais reclamações procedentes encerradas no mês de referência. O número absoluto de reclamações é ponderado pelo número de clientes.\n",
        "- Para os dois grupos, o número de clientes considerado é o daqueles com operações protegidas pelo Fundo Garantidor de Crédito (contas de depósito à vista, contas de poupança, contas de depósito a prazo com e sem emissão de certificado, letras de câmbio, letras imobiliárias e letras hipotecárias).\n",
        "- Nos dois grupos, para obtenção do índice de reclamações, o resultado da operação de ponderação é multiplicado por 100.000 para facilitar a visualização do resultado.\n",
        "Nos dois grupos, são divulgadas as cinco instituições com maior índice.\n",
        "\n",
        "\n",
        "\n",
        "Fonte dos dados: https://www.bcb.gov.br/estabilidadefinanceira/rankingreclamacoes"
      ],
      "metadata": {
        "id": "XHeHtoszvz9n"
      }
    },
    {
      "cell_type": "code",
      "source": [],
      "metadata": {
        "id": "KsXPBQm8vp3v"
      },
      "execution_count": null,
      "outputs": []
    },
    {
      "cell_type": "markdown",
      "source": [],
      "metadata": {
        "id": "VbYeHBxjVylF"
      }
    },
    {
      "cell_type": "code",
      "source": [
        "import pandas as pd\n",
        "import "
      ],
      "metadata": {
        "id": "Gl34X__UES3X"
      },
      "execution_count": null,
      "outputs": []
    }
  ]
}