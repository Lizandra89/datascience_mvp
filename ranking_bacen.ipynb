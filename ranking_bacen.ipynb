{
  "nbformat": 4,
  "nbformat_minor": 0,
  "metadata": {
    "colab": {
      "provenance": [],
      "toc_visible": true,
      "mount_file_id": "1agq33izVuIQABA2DSKAi33EEHBO_n0Gf",
      "authorship_tag": "ABX9TyMUeaKP/v0rdTkmCxzMP1+Z",
      "include_colab_link": true
    },
    "kernelspec": {
      "name": "python3",
      "display_name": "Python 3"
    },
    "language_info": {
      "name": "python"
    }
  },
  "cells": [
    {
      "cell_type": "markdown",
      "metadata": {
        "id": "view-in-github",
        "colab_type": "text"
      },
      "source": [
        "<a href=\"https://colab.research.google.com/github/simonefmr/datascience_mvp/blob/main/ranking_bacen.ipynb\" target=\"_parent\"><img src=\"https://colab.research.google.com/assets/colab-badge.svg\" alt=\"Open In Colab\"/></a>"
      ]
    },
    {
      "cell_type": "markdown",
      "source": [
        "# RANKING DE RECLAMAÇÕES DE INSTITUIÇÕES FINANCEIRAS\n",
        "### 4º Trimestre/2022\n",
        "## MVP Sprint I: Análise de Dados e Boas Práticas \n",
        "## Aluna Simone de Fátima Marques Ramos\n"
      ],
      "metadata": {
        "id": "EH1XGZbLvuYh"
      }
    },
    {
      "cell_type": "markdown",
      "source": [
        "O ranking de reclamações consolida as reclamações dos cidadãos contra Instituições Financeiras que foram recebidas, analisadas e encerradas pelo Banco Central em cada período de referência.\n",
        "\n",
        "Os dados disponibilizados apresentam, para cada instituição financeira: o índice de reclamações; a quantidade de reclamações por tipo (reguladas, não reguladas, procedentes, outras, não reguladas, total geral); e as quantidades de clientes do CCS ( Cadastro de Clientes do Sistema Financeiro Nacional), do SCR (do Sistema de Informações de Crédito) e do FGC (Fundo Garantidor de Crédito).\n",
        "\n",
        "O cálculo do índice de reclamações considera a quantidade de reclamações reguladas procedentes para cada um milhão de clientes da instituição financeira.\n",
        "\n",
        "Mais informações estão disponíveis no endereço: https://www.bcb.gov.br/estabilidadefinanceira/rankingsbc\n",
        "\n",
        "\n",
        "https://www.bcb.gov.br/estabilidadefinanceira/rankingreclamacoes"
      ],
      "metadata": {
        "id": "XHeHtoszvz9n"
      }
    },
    {
      "cell_type": "code",
      "source": [],
      "metadata": {
        "id": "KsXPBQm8vp3v"
      },
      "execution_count": null,
      "outputs": []
    },
    {
      "cell_type": "markdown",
      "source": [],
      "metadata": {
        "id": "VbYeHBxjVylF"
      }
    },
    {
      "cell_type": "code",
      "source": [
        "import pandas as pd\n",
        "import "
      ],
      "metadata": {
        "id": "Gl34X__UES3X"
      },
      "execution_count": null,
      "outputs": []
    }
  ]
}